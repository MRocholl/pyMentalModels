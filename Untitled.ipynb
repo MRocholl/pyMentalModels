{
 "cells": [
  {
   "cell_type": "markdown",
   "metadata": {},
   "source": [
    "How pyMentalModel works\n",
    "=============\n",
    "\n",
    "pyMentalModels relies on numpy, sympy and pyparsing\n",
    "\n",
    "The structre of the program looks like so:\n",
    "    - Parse expression using pyparsing\n",
    "    - Process it using sympy\n",
    "    - Build a mental model as np.n(2)darray \n",
    "    - Make some inference with regard to the mental model\n"
   ]
  },
  {
   "cell_type": "markdown",
   "metadata": {},
   "source": [
    "The Mental Modal reasoner uses sympy at the moment to parse expressions.\n",
    "I make use of the function sympify that returns a logical object that has the nice method'* `atoms` that lists the individual atoms of an expression"
   ]
  },
  {
   "cell_type": "code",
   "execution_count": 20,
   "metadata": {},
   "outputs": [
    {
     "name": "stdout",
     "output_type": "stream",
     "text": [
      "Help on function parse_format in module pyMentalModels.modal_parser:\n",
      "\n",
      "parse_format(expression:str, rules:Dict[str, str])\n",
      "    Short function to both parse and format an expression and return a sympy object\n",
      "\n"
     ]
    }
   ],
   "source": [
    "from pyMentalModels.modal_parser import parse_format\n",
    "help(parse_format)"
   ]
  },
  {
   "cell_type": "code",
   "execution_count": 22,
   "metadata": {},
   "outputs": [
    {
     "data": {
      "text/plain": [
       "{'&': 'And',\n",
       " '->': 'Implies',\n",
       " '<->': 'Equivalent',\n",
       " '<>': 'Possibly',\n",
       " '[]': 'Necessary',\n",
       " '^': 'Xor',\n",
       " '|': 'Or',\n",
       " '~': 'Not'}"
      ]
     },
     "execution_count": 22,
     "metadata": {},
     "output_type": "execute_result"
    }
   ],
   "source": [
    "from pyMentalModels.operators import explicit_op, intuit_op\n",
    "explicit_op"
   ]
  },
  {
   "cell_type": "code",
   "execution_count": 23,
   "metadata": {},
   "outputs": [
    {
     "data": {
      "text/plain": [
       "{'&': 'And',\n",
       " '->': 'And',\n",
       " '<->': 'And',\n",
       " '<>': 'Possibly',\n",
       " '[]': 'Necessary',\n",
       " '^': 'Xor',\n",
       " '|': 'Or',\n",
       " '~': 'Not'}"
      ]
     },
     "execution_count": 23,
     "metadata": {},
     "output_type": "execute_result"
    }
   ],
   "source": [
    "intuit_op"
   ]
  },
  {
   "cell_type": "code",
   "execution_count": 26,
   "metadata": {},
   "outputs": [
    {
     "data": {
      "text/plain": [
       "(a & b, {a, b}, (a, b))"
      ]
     },
     "execution_count": 26,
     "metadata": {},
     "output_type": "execute_result"
    }
   ],
   "source": [
    "parsed_exp = parse_format(\"a -> b\", intuit_op)\n",
    "\n",
    "parsed_exp, parsed_exp.atoms(), parsed_exp.args\n",
    "\n"
   ]
  },
  {
   "cell_type": "code",
   "execution_count": 27,
   "metadata": {},
   "outputs": [
    {
     "data": {
      "text/plain": [
       "Implies(a, b)"
      ]
     },
     "execution_count": 27,
     "metadata": {},
     "output_type": "execute_result"
    }
   ],
   "source": [
    "parse_format(\"a -> b\", explicit_op)\n"
   ]
  },
  {
   "cell_type": "markdown",
   "metadata": {},
   "source": [
    "How the Mental Models are constructed...\n",
    "======================="
   ]
  },
  {
   "cell_type": "code",
   "execution_count": 3,
   "metadata": {},
   "outputs": [],
   "source": [
    "from pyMentalModels.numpy_reasoner import mental_model_builder, map_instance_to_operation"
   ]
  },
  {
   "cell_type": "code",
   "execution_count": 14,
   "metadata": {},
   "outputs": [
    {
     "name": "stdout",
     "output_type": "stream",
     "text": [
      "Help on function mental_model_builder in module pyMentalModels.numpy_reasoner:\n",
      "\n",
      "mental_model_builder(sympified_expr, mode=<Insight.INTUITIVE: 0>)\n",
      "    Builds a mental model representation of the logical expression.\n",
      "    \n",
      "    A Mental model is a mental representation of a logical or indeed any expression.\n",
      "    An example would be the expression:\n",
      "    \n",
      "        You have either the salad or the soup or the bread\n",
      "    \n",
      "    The mental model representation would then be:\n",
      "    \n",
      "                    Salad\n",
      "                            Soup\n",
      "                                    Bread\n",
      "    \n",
      "    `mental_model_builder` recursively builds models of the subexpressions of\n",
      "    the total expression, merges them and returns the overall mental model\n",
      "    representation of the expression\n",
      "    \n",
      "    Parameters\n",
      "    ----------\n",
      "    sympified_expr: sympy BooleanFunction\n",
      "        An expression formatted and processed by the `sympy` python module\n",
      "        Attributes:\n",
      "            expression.atoms\n",
      "                Set of all the atoms in the logical expression\n",
      "            expression.args\n",
      "                Tuple of arguments the outermost logical operator takes\n",
      "    mode: Insight\n",
      "        Insight can be either Insight.INTUITIVE or Insight.FULL\n",
      "        The mental models differ accordingly:\n",
      "    \n",
      "            The sentence               The mental       The fully\n",
      "                                       models of its    explicit\n",
      "                                       possibilities    models\n",
      "            ==========================|==============|============\n",
      "            A And B                   |    A   B     |    A   B\n",
      "            --------------------------|--------------|------------\n",
      "            Neither A nor B           |   ~A  ~B     |   ~A  ~B\n",
      "            --------------------------|--------------|------------\n",
      "            A or else B, but not both |    A         |    A  ~B\n",
      "                                      |        B     |   ~A   B\n",
      "            --------------------------|--------------|------------\n",
      "            A or B or both            |    A         |    A  ~B\n",
      "                                      |        B     |   ~A   B\n",
      "                                      |    A   B     |    A   B\n",
      "            --------------------------|--------------|------------\n",
      "            If A then B               |    A   B     |    A   B\n",
      "                                      |     ...      |   ~A  ~B\n",
      "                                      |              |   ~A   B\n",
      "            --------------------------|--------------|------------\n",
      "            If and only if A then B   |    A   B     |    A   B\n",
      "                                      |     ...      |   ~A  ~B\n",
      "    \n",
      "    \n",
      "    -------\n",
      "    Mental model representation of logical expression\n",
      "\n"
     ]
    }
   ],
   "source": [
    "help(mental_model_builder)"
   ]
  },
  {
   "cell_type": "code",
   "execution_count": 15,
   "metadata": {},
   "outputs": [
    {
     "ename": "NameError",
     "evalue": "name 'Insight' is not defined",
     "output_type": "error",
     "traceback": [
      "\u001b[0;31m---------------------------------------------------------------------------\u001b[0m",
      "\u001b[0;31mNameError\u001b[0m                                 Traceback (most recent call last)",
      "\u001b[0;32m<ipython-input-15-f097cf836aad>\u001b[0m in \u001b[0;36m<module>\u001b[0;34m()\u001b[0m\n\u001b[0;32m----> 1\u001b[0;31m \u001b[0;32mdef\u001b[0m \u001b[0mmental_model_builder\u001b[0m\u001b[0;34m(\u001b[0m\u001b[0msympified_expr\u001b[0m\u001b[0;34m,\u001b[0m \u001b[0mmode\u001b[0m\u001b[0;34m=\u001b[0m\u001b[0mInsight\u001b[0m\u001b[0;34m.\u001b[0m\u001b[0mINTUITIVE\u001b[0m\u001b[0;34m)\u001b[0m\u001b[0;34m:\u001b[0m\u001b[0;34m\u001b[0m\u001b[0m\n\u001b[0m\u001b[1;32m      2\u001b[0m     \u001b[0;31m# Extract atoms from sympified expression\u001b[0m\u001b[0;34m\u001b[0m\u001b[0;34m\u001b[0m\u001b[0m\n\u001b[1;32m      3\u001b[0m     \u001b[0mexp_atoms\u001b[0m \u001b[0;34m=\u001b[0m \u001b[0msorted\u001b[0m\u001b[0;34m(\u001b[0m\u001b[0msympified_expr\u001b[0m\u001b[0;34m.\u001b[0m\u001b[0matoms\u001b[0m\u001b[0;34m(\u001b[0m\u001b[0;34m)\u001b[0m\u001b[0;34m,\u001b[0m \u001b[0mkey\u001b[0m\u001b[0;34m=\u001b[0m\u001b[0mstr\u001b[0m\u001b[0;34m)\u001b[0m\u001b[0;34m\u001b[0m\u001b[0m\n\u001b[1;32m      4\u001b[0m \u001b[0;34m\u001b[0m\u001b[0m\n\u001b[1;32m      5\u001b[0m     \u001b[0;31m# map every atom to its corresponding index in the model\u001b[0m\u001b[0;34m\u001b[0m\u001b[0;34m\u001b[0m\u001b[0m\n",
      "\u001b[0;31mNameError\u001b[0m: name 'Insight' is not defined"
     ]
    }
   ],
   "source": [
    "def mental_model_builder(sympified_expr, mode=Insight.INTUITIVE):\n",
    "    # Extract atoms from sympified expression\n",
    "    exp_atoms = sorted(sympified_expr.atoms(), key=str)\n",
    "\n",
    "    # map every atom to its corresponding index in the model\n",
    "    atom_index_mapping = {atom: i for i, atom in enumerate(exp_atoms)}\n",
    "\n",
    "    return mental_model(sympified_expr, map_instance_to_operation(sympified_expr)(sympified_expr, atom_index_mapping, exp_atoms), exp_atoms, atom_index_mapping)\n",
    "\n"
   ]
  },
  {
   "cell_type": "code",
   "execution_count": 11,
   "metadata": {},
   "outputs": [
    {
     "name": "stdout",
     "output_type": "stream",
     "text": [
      "Help on function map_instance_to_operation in module pyMentalModels.numpy_reasoner:\n",
      "\n",
      "map_instance_to_operation(el)\n",
      "    maps every logical instance to its builder function.\n",
      "\n"
     ]
    }
   ],
   "source": [
    "help(map_instance_to_operation)"
   ]
  },
  {
   "cell_type": "code",
   "execution_count": null,
   "metadata": {},
   "outputs": [],
   "source": []
  }
 ],
 "metadata": {
  "kernelspec": {
   "display_name": "Python 3",
   "language": "python",
   "name": "python3"
  },
  "language_info": {
   "codemirror_mode": {
    "name": "ipython",
    "version": 3
   },
   "file_extension": ".py",
   "mimetype": "text/x-python",
   "name": "python",
   "nbconvert_exporter": "python",
   "pygments_lexer": "ipython3",
   "version": "3.6.5"
  }
 },
 "nbformat": 4,
 "nbformat_minor": 2
}
